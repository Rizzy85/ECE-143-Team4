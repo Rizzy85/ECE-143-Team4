{
 "cells": [
  {
   "cell_type": "markdown",
   "id": "gross-round",
   "metadata": {},
   "source": [
    "# Code Validation and Functional Tests\n",
    "## Group 4\n",
    "### Group Members\n",
    "- Aaron Hanna; A15683824\n",
    "- Raymond Urbina; A16099845\n",
    "-\n"
   ]
  },
  {
   "cell_type": "code",
   "execution_count": null,
   "id": "representative-seventh",
   "metadata": {},
   "outputs": [],
   "source": [
    "# Imports\n",
    "from math import ceil"
   ]
  },
  {
   "cell_type": "markdown",
   "id": "needed-south",
   "metadata": {},
   "source": [
    "## Question 1: Powers of 3\n",
    "Given an int: n, return a list of 'weights' that when added/multiplied with a set produce the int given.\n",
    "Each number can only be used once. i.e. (4,0,0,0) is not valid"
   ]
  },
  {
   "cell_type": "markdown",
   "id": "lucky-attack",
   "metadata": {},
   "source": [
    "#### Validation Tests"
   ]
  },
  {
   "cell_type": "code",
   "execution_count": 4,
   "id": "limited-greensboro",
   "metadata": {},
   "outputs": [],
   "source": [
    "# Check that input is an int in appropriate range\n",
    "assert isinstance(n,int), \"input must be an integer\"\n",
    "assert 1 <= n <= 40, \"int out of range\"\n",
    "\n",
    "# Check for docstring\n",
    "assert get_power_of3.__doc__ != None\n",
    "assert len(get_power_of3.__doc__)\n",
    "\n",
    "# Check that invalid inputs return none\n"
   ]
  },
  {
   "cell_type": "markdown",
   "id": "surface-isaac",
   "metadata": {},
   "source": [
    "#### Functional Tests\n"
   ]
  },
  {
   "cell_type": "code",
   "execution_count": 2,
   "id": "aquatic-solution",
   "metadata": {},
   "outputs": [
    {
     "ename": "AssertionError",
     "evalue": "test",
     "output_type": "error",
     "traceback": [
      "\u001b[0;31m---------------------------------------------------------------------------\u001b[0m",
      "\u001b[0;31mAssertionError\u001b[0m                            Traceback (most recent call last)",
      "\u001b[0;32m<ipython-input-2-b392c5462562>\u001b[0m in \u001b[0;36m<module>\u001b[0;34m\u001b[0m\n\u001b[1;32m      1\u001b[0m \u001b[0mn\u001b[0m \u001b[0;34m=\u001b[0m \u001b[0;36m1\u001b[0m\u001b[0;34m\u001b[0m\u001b[0;34m\u001b[0m\u001b[0m\n\u001b[0;32m----> 2\u001b[0;31m \u001b[0;32massert\u001b[0m \u001b[0misinstance\u001b[0m\u001b[0;34m(\u001b[0m\u001b[0mn\u001b[0m\u001b[0;34m,\u001b[0m\u001b[0mstr\u001b[0m\u001b[0;34m)\u001b[0m\u001b[0;34m,\u001b[0m \u001b[0;34m\"test\"\u001b[0m\u001b[0;34m\u001b[0m\u001b[0;34m\u001b[0m\u001b[0m\n\u001b[0m",
      "\u001b[0;31mAssertionError\u001b[0m: test"
     ]
    }
   ],
   "source": [
    "# Test case for right output\n",
    "n = 10\n",
    "assert len(get_power_of3(n)) == 4, \"checking correct output length\"\n",
    "\n",
    "assert get_power_of3(5) == [-1, -1, 1, 0], \"checking right output for n = 5\"\n",
    "assert get_power_of3(1) == [1, 0, 0, 0], \"checking right output for n = 1\"\n",
    "assert get_power_of3(40) == [1, 1, 1, 1], \"checking right output for n = 40\"\n",
    "assert get_power_of3(8) == [-1, 0, 1, 0], \"checking right output for n = 8\"\n",
    "assert get_power_of3(10) == [1, 0, 1, 0], \"checking right output for n = 10\"\n",
    "\n",
    "# Check that only one's and zero's in return list\n",
    "assert all(num in [1, 0, -1] for num in get_power_of3(11))\n"
   ]
  },
  {
   "cell_type": "code",
   "execution_count": null,
   "id": "planned-gross",
   "metadata": {},
   "outputs": [],
   "source": []
  },
  {
   "cell_type": "markdown",
   "id": "artistic-property",
   "metadata": {},
   "source": [
    "## Question 2: Write Columns"
   ]
  },
  {
   "cell_type": "markdown",
   "id": "intense-distance",
   "metadata": {},
   "source": [
    "#### Validation Tests"
   ]
  },
  {
   "cell_type": "code",
   "execution_count": null,
   "id": "elementary-religion",
   "metadata": {},
   "outputs": [],
   "source": [
    "# Check that input is an int in appropriate range inputs: data, fname\n",
    "assert isinstance(data,list), \"input must be a list\"\n",
    "assert len(data), \"list must be non-empty\"\n",
    "assert all(isinstance(x, (float,int)) for x in data), \"list must only contain floats,ints\"\n",
    "\n",
    "assert isinstance(fname,str), \"input must be a string\"\n",
    "assert  len(fname) > 0, \"file name invalid\"\n",
    "\n",
    "# Check for docstring\n",
    "assert write_columns.__doc__ != None, \"Missing a docstring\"\n",
    "assert len(write_columns.__doc__) > 0, \"Length of docstring must be greater than zero\""
   ]
  },
  {
   "cell_type": "markdown",
   "id": "impaired-lodge",
   "metadata": {},
   "source": [
    "#### Functional Tests"
   ]
  },
  {
   "cell_type": "code",
   "execution_count": 6,
   "id": "pleased-fishing",
   "metadata": {},
   "outputs": [
    {
     "ename": "NameError",
     "evalue": "name 'write_columns' is not defined",
     "output_type": "error",
     "traceback": [
      "\u001b[0;31m---------------------------------------------------------------------------\u001b[0m",
      "\u001b[0;31mNameError\u001b[0m                                 Traceback (most recent call last)",
      "\u001b[0;32m<ipython-input-6-61d524873f3b>\u001b[0m in \u001b[0;36m<module>\u001b[0;34m\u001b[0m\n\u001b[1;32m      4\u001b[0m \u001b[0;34m\u001b[0m\u001b[0m\n\u001b[1;32m      5\u001b[0m \u001b[0;31m# Call function\u001b[0m\u001b[0;34m\u001b[0m\u001b[0;34m\u001b[0m\u001b[0;34m\u001b[0m\u001b[0m\n\u001b[0;32m----> 6\u001b[0;31m \u001b[0mwrite_columns\u001b[0m\u001b[0;34m(\u001b[0m\u001b[0mdata\u001b[0m\u001b[0;34m,\u001b[0m \u001b[0mfname\u001b[0m\u001b[0;34m)\u001b[0m\u001b[0;34m\u001b[0m\u001b[0;34m\u001b[0m\u001b[0m\n\u001b[0m\u001b[1;32m      7\u001b[0m \u001b[0;34m\u001b[0m\u001b[0m\n\u001b[1;32m      8\u001b[0m \u001b[0;31m# Open file name for reading and checking length\u001b[0m\u001b[0;34m\u001b[0m\u001b[0;34m\u001b[0m\u001b[0;34m\u001b[0m\u001b[0m\n",
      "\u001b[0;31mNameError\u001b[0m: name 'write_columns' is not defined"
     ]
    }
   ],
   "source": [
    "# Inputs for function testing\n",
    "fname = 'out.csv'\n",
    "data = [0, 1, -5, 0.5]\n",
    "\n",
    "# Call function\n",
    "write_columns(data, fname)\n",
    "\n",
    "# Open file name for reading and checking length\n",
    "with open(fname, 'r') as f:\n",
    "    assert len(f.readlines()) == len(data)\n",
    "\n",
    "# Check that the calculations are correct and comma seperated\n",
    "with open(fname, 'r') as f:\n",
    "    for d in data:\n",
    "        # Remove whitespace, read line\n",
    "        line = f.readline().replace(' ', '')\n",
    "        expectString = f\"{d:.2f},{d2:.2f},{(d+d2)/3:.2f}\\n\"\n",
    "        assert line == expectString, \"miscalculation or wrong format\"\n",
    "        "
   ]
  },
  {
   "cell_type": "markdown",
   "id": "cosmetic-hawaii",
   "metadata": {},
   "source": [
    "## Question 3: Non-Overlapping Sequences\n",
    "Inputs: \n",
    "    words (list)\n",
    "    fname (str)\n",
    "Outputs:\n",
    "    Rows of 5 words (last row may be less) from the 'words' list"
   ]
  },
  {
   "cell_type": "markdown",
   "id": "fitting-reality",
   "metadata": {},
   "source": [
    "#### Validation Tests"
   ]
  },
  {
   "cell_type": "code",
   "execution_count": null,
   "id": "pleasant-thomas",
   "metadata": {},
   "outputs": [],
   "source": [
    "# Check that input is an int in appropriate range\n",
    "fname = 'out.csv'\n",
    "words = ['this', 'is', 'a', 'test', 'of', 'the', 'code']\n",
    "\n",
    "# Test 1\n",
    "assert isinstance(words,list), \"words input must be an list\"\n",
    "\n",
    "# Test 2\n",
    "assert len(words), \"length of words must be greater than zero\"\n",
    "\n",
    "# Test 3\n",
    "assert isinstance(fname,str), \"input must be a string\"\n",
    "\n",
    "# Test 4\n",
    "assert len(fname) > 0, \"file name invalid\"\n",
    "\n",
    "# Test 5\n",
    "# Check for docstring\n",
    "assert write_chunks_of_five.__doc__ != None\n",
    "\n",
    "# Test 6\n",
    "assert len(write_chunks_of_five.__doc__)"
   ]
  },
  {
   "cell_type": "markdown",
   "id": "forward-donna",
   "metadata": {},
   "source": [
    "#### Functional Tests"
   ]
  },
  {
   "cell_type": "code",
   "execution_count": null,
   "id": "arabic-cricket",
   "metadata": {},
   "outputs": [],
   "source": [
    "fname = 'out.csv'\n",
    "words = ['this', 'is', 'a', 'test', 'of', 'the', 'code']\n",
    "\n",
    "# Test 0: This is hard coded to test accuracy\n",
    "write_chunks_of_five.write_chunks_of_five(data, fname)\n",
    "with open(fname, 'r') as f:\n",
    "    lines = f.readlines()\n",
    "\n",
    "assert lines == ['this is a test of\\n', 'the code '], \"incorrect output \"\n",
    "\n",
    "# Test \n",
    "fname = 'out.csv'\n",
    "words = []\n",
    "\n",
    "write_chunks_of_five(words, fname)\n",
    "with open(fname, 'r') as f:\n",
    "    lines = f.readlines()\n",
    "\n",
    "assert lines == []\n",
    "\n",
    "# Test 3\n",
    "assert all(isinstance(word, str) for word in words), \"all types in list must be str\"\n",
    "\n",
    "# This is a generative test to test more cases\n",
    "\n",
    "# Open file name for reading and checking length\n",
    "write_chunks_of_five(data, fname)\n",
    "\n",
    "# Check if length of rows in file matches words list\n",
    "# This also catches if empty file\n",
    "with open(fname, 'r') as f:\n",
    "    assert len(f.readlines()) == ceil(len(words) / 5)\n",
    "\n",
    "# Compares output with expected output\n",
    "with open(fname, 'r') as f:\n",
    "    expectString = ''\n",
    "    count = 0 \n",
    "    for w in words:\n",
    "        expectString += w + ' '\n",
    "        count += 1\n",
    "\n",
    "        if count == 5:\n",
    "            line = f.readline()\n",
    "            # Test 4\n",
    "            assert line.strip() == expectString.strip(), \"unexpected string found in file\"\n",
    "            count = 0\n",
    "            expectString = ''\n",
    "\n",
    "    # Last row if mod(len(words)) != 0\n",
    "    if expectString != '':\n",
    "        line = f.readline()\n",
    "        \n",
    "        # Test 5\n",
    "        assert line.strip() == expectString.strip(), \"last row incorrect\""
   ]
  }
 ],
 "metadata": {
  "kernelspec": {
   "display_name": "Python 3",
   "language": "python",
   "name": "python3"
  },
  "language_info": {
   "codemirror_mode": {
    "name": "ipython",
    "version": 3
   },
   "file_extension": ".py",
   "mimetype": "text/x-python",
   "name": "python",
   "nbconvert_exporter": "python",
   "pygments_lexer": "ipython3",
   "version": "3.8.5"
  },
  "pycharm": {
   "stem_cell": {
    "cell_type": "raw",
    "source": [],
    "metadata": {
     "collapsed": false
    }
   }
  }
 },
 "nbformat": 4,
 "nbformat_minor": 5
}